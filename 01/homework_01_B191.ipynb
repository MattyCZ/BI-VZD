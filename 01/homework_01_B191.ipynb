{
 "cells": [
  {
   "cell_type": "markdown",
   "metadata": {},
   "source": [
    "# Úkol č. 1 - vizualizace dat a web scraping (do 20. října)\n",
    "\n",
    "  * V rámci tohoto úkolu musíte stáhnout dat z webu (tzv. _web scraping_, velmi základní) a následně data zpracovat a vizualizovat.\n",
    "  * Cílem bude stáhnout data ze serveru https://www.volby.cz týkající se voleb do zastupitelstva Vámi vybraného (většího) města, uložit data o závěrečných pracích v tabulkovém formátu a pak vymyslet vizualizace a zobrazení dat, které umožní orientaci v těchto datech a zvýrazní zajímavé informace a zobrazit přehledně časový vývoj různých veličin.\n",
    " \n",
    "> **Úkoly jsou zadány tak, aby Vám daly prostor pro invenci. Vymyslet _jak přesně_ budete úkol řešit, je důležitou součástí zadání a originalita či nápaditost bude také hodnocena!**\n",
    "\n",
    "## Výběr zdroje dat\n",
    "\n",
    "Vyberte si větší město, které má zastupitelstvo druhu 3 (Zastupitelstvo statutárního města) a strojově stáhněte informace o stranách a kandidátkách z následujících let:\n",
    " * [2002](https://www.volby.cz/pls/kv2002/kv12?xjazyk=CZ&xid=0), [2006](https://www.volby.cz/pls/kv2006/kv12?xjazyk=CZ&xid=0), [2010](https://www.volby.cz/pls/kv2010/kv12?xjazyk=CZ&xid=0), [2014](https://www.volby.cz/pls/kv2014/kv12?xjazyk=CZ&xid=0) a [2018](https://www.volby.cz/pls/kv2018/kv12?xjazyk=CZ&xid=0).\n",
    " \n",
    "\n",
    "## Pokyny k vypracování\n",
    "\n",
    "**Základní body zadání**, za jejichž (poctivé) vypracování získáte **8 bodů**:\n",
    "  * Strojově stáhněte data pro vybrané město a uložte je všechny do (asi dvou) přehledných tabulek ve formátu _csv_.\n",
    "  * Data musí obsahovat _alespoň_ toto:\n",
    "    * Vývoj výsledků (v procentech i počtu hlasů) pro jednotlivé strany v jednotlivých letech.\n",
    "    * Seznam všech kandidátů všech stran v jednotlivých letech, u kandidáta by mělo být zaznamenáno: jméno, věk v době voleb, navrhující strana, politická příslušnost, volební zisk (procento i počet hlasů), pořadí na kandidátce, pořadí zvolení, jestli získal mandát (tyto informace získáte souhrnně ve _jmenných seznamech_).\n",
    "  * V druhé části Vašeho Jupyter notebooku pracujte s těmito tabulkami načtenými z _csv_ souboru (aby opravující nemusel spouštět stahování z webu).\n",
    "  * Tabulky ve formátu _csv_ také odevzdejte.\n",
    "  * S využitím vybraných nástrojů zpracujte data a vymyslete vizualizace a grafy, aby bylo vidět následující:\n",
    "    * Časový vývoj (po rocích voleb) počtu kandidujících stran i lidí a to celkově i po jednotlivých stranách (ve volbách, kterých se daná strana účastnila).\n",
    "    * Věkovou strukturu kandidátů celkově i za jednotlivé strany a vývoj této struktury během jednotlivých voleb.\n",
    "    * Časový vývoj volební účasti a volebních výsledků jednotlivých stran.\n",
    "    * Časový vývoj podílu kandidujících s titulem a bez titulu.\n",
    "\n",
    "**Další body zadání** za případné další body (můžete si vybrat, maximum bodů za úkol je každopádně 12 bodů):\n",
    "  * (až +2 body) U titulů se pokuste rozlišit i různé stupně vzdělání: bakalářský, magisterský, doktorský a vyšší, vojenská hodnost atp. Zkuste odhadnout i podíl žen na kandidátkách.\n",
    "  * (až +4 body) Pokuste se u jednotlivých kandidátů zjistit, zda kandidovali ve více volbách. Najděte 10 nejpilnějších kandidátů a vypište jejich volební zisky a za jaké strany kandidovali.\n",
    "  * (až +2 body) Najděte nějaký balíček, který Vám dovolí do Vašeho notebooku zavést interaktivní prvky, např. si vyberete v select-boxu stranu a Váš notebook zobrazí grafy pouze pro ni atp.\n",
    "\n",
    "## Poznámky k odevzdání\n",
    "\n",
    "  * Řiďte se pokyny ze stránky https://courses.fit.cvut.cz/BI-VZD/homeworks/index.html.\n",
    "  * Odevzdejte nejen Jupyter Notebook, ale i _csv_ soubor(y) se staženými daty.\n",
    "  * Opravující Vám může umožnit úkol dodělat či opravit a získat tak další body. První verze je ale důležitá a bude-li odbytá, budete za to penalizováni."
   ]
  },
  {
   "cell_type": "markdown",
   "metadata": {},
   "source": [
    "# Stáhnutí dat - Město Plzeň\n",
    "## Politické strany\n",
    "### Načtení dat"
   ]
  },
  {
   "cell_type": "code",
   "execution_count": 1,
   "metadata": {
    "pycharm": {
     "is_executing": false
    }
   },
   "outputs": [],
   "source": [
    "import pandas as pd\n",
    "from IPython.display import display\n",
    "from pandas import MultiIndex\n",
    "import matplotlib\n",
    "import matplotlib.pyplot as plt\n",
    "import ipywidgets as widgets\n",
    "from ipywidgets import interact, interact_manual"
   ]
  },
  {
   "cell_type": "code",
   "execution_count": 2,
   "metadata": {
    "pycharm": {
     "is_executing": false
    }
   },
   "outputs": [
    {
     "name": "stderr",
     "output_type": "stream",
     "text": [
      "/mnt/c/Users/Ondrej Chladek/Documents/Skola/VZD/01/venv/lib/python3.6/site-packages/pandas/core/generic.py:3946: PerformanceWarning: dropping on a non-lexsorted multi-index without a level parameter may impact performance.\n",
      "  new_axis = axis.drop(labels, errors=errors)\n"
     ]
    }
   ],
   "source": [
    "urls = {\n",
    "    2002: \"https://www.volby.cz/pls/kv2002/kv1111?xjazyk=CZ&xid=0&xdz=3&xnumnuts=3203&xobec=554791\",\n",
    "    2006: \"https://www.volby.cz/pls/kv2006/kv1111?xjazyk=CZ&xid=0&xdz=3&xnumnuts=3203&xobec=554791&xstat=0&xvyber=0\",\n",
    "    2010: \"https://www.volby.cz/pls/kv2010/kv1111?xjazyk=CZ&xid=0&xdz=3&xnumnuts=3203&xobec=554791&xstat=0&xvyber=0\",\n",
    "    2014: \"https://www.volby.cz/pls/kv2014/kv1111?xjazyk=CZ&xid=0&xdz=3&xnumnuts=3203&xobec=554791&xstat=0&xvyber=0\",\n",
    "    2018: \"https://www.volby.cz/pls/kv2018/kv1111?xjazyk=CZ&xid=0&xdz=3&xnumnuts=3203&xobec=554791&xstat=0&xvyber=0\",\n",
    "}\n",
    "\n",
    "dfs = {}\n",
    "for i in urls.keys():\n",
    "    dfs[i] = pd.read_html(urls[i], flavor='html5lib', decimal=',', thousands='\\xa0')[1]\n",
    "    if i == 2002:\n",
    "        dfs[i].drop(columns=[\n",
    "                \"Početkandidátů\", \"Přepočtenýzákladdle počtukandidátů\", \"Přepočtené % plat. hlasů\", \"Početmandátů\", \n",
    "                \"Podíly hlasů\", (\"Kandidátní listina\", \"Kandidátní listina\"),], inplace=True)\n",
    "        \n",
    "    else:\n",
    "        dfs[i].drop(columns=[\n",
    "                \"Početkandidátů\", \"Přepočtenýzákladdle počtukandidátů\", \"Přepočtené %platných hlasů\", \"Početmandátů\", \n",
    "                \"Podílyhlasů\", (\"Kandidátní listina\", \"číslo\")], inplace=True)\n",
    "    dfs[i].columns = [\"Název strany\", \"Počet hlasů abs {year}\".format(year=i), \"Počet hlasů v % {year}\".format(year=i)]"
   ]
  },
  {
   "cell_type": "markdown",
   "metadata": {},
   "source": [
    "### Spojení dat"
   ]
  },
  {
   "cell_type": "code",
   "execution_count": 3,
   "metadata": {
    "pycharm": {
     "is_executing": false
    }
   },
   "outputs": [],
   "source": [
    "data = dfs[2002]\n",
    "for df in dfs.values():\n",
    "    data = data.merge(df,how=\"outer\")\n",
    "#data.fillna(0, inplace = True)\n"
   ]
  },
  {
   "cell_type": "markdown",
   "metadata": {},
   "source": [
    "### Uložení výsledků do csv"
   ]
  },
  {
   "cell_type": "code",
   "execution_count": 4,
   "metadata": {},
   "outputs": [],
   "source": [
    "#data.to_csv(\"partyVotes.csv\", encoding=\"windows-1250\")\n",
    "data.to_csv(\"partyVotes.csv\", encoding=\"utf-8\")"
   ]
  },
  {
   "cell_type": "markdown",
   "metadata": {},
   "source": [
    "## Jednotlivci\n",
    "### Načtení dat"
   ]
  },
  {
   "cell_type": "code",
   "execution_count": 5,
   "metadata": {},
   "outputs": [],
   "source": [
    "titles = {'plk.', 'dipl.', 'ped.', 'um.', 'PhDr.Ing.Mgr.et', 'M.A.', 'MUDr.', 'LL.M.', 'M.Sc.', 'RSDr.', 'JUDr.', 'prom.',\n",
    "          'ThMgr.', 'prom.ped.', 'Arch.', 'Akad.', 'doc.', 'PhDr.', 'Mgr.', 'Mgr.etMgr', 'Ph.D.', 'MgA.', 'Prof.', 'Th.D.',\n",
    "          'prof.', 'MSc.', 'MVDr.', 'Doc.', 'Bc.', 'Dr.', 'et', 'arch.', 'ing.', 'CSc.', 'Ing.', 'MPA', 'RNDr.', 'DrSc.',\n",
    "          'FICS.', 'MBA', 'dr.h.c.', 'DSc.', 'DiS.', 'PaedDr.', 'King'\n",
    "}\n",
    "# Titles were obtained by script underneath, applied to all years all other than 2002, where title is separated\n",
    "# and than manually cleaned from third names etc.\n",
    "# for s in tmp[\"Jmeno\"]:\n",
    "#    t = s.split(\" \")\n",
    "#    for st, i in zip(t, range(len(t))):\n",
    "#        if i > 1:\n",
    "#            titles.add(st.replace(\",\", \"\"))\n"
   ]
  },
  {
   "cell_type": "code",
   "execution_count": null,
   "metadata": {},
   "outputs": [],
   "source": [
    "urls = {\n",
    "    2002: 'https://www.volby.cz/pls/kv2002/kv21111?xjazyk=CZ&xid=0&xv=11&xdz=3&xnumnuts=3203&xobec=554791&xstrana=0',\n",
    "    2006: 'https://www.volby.cz/pls/kv2006/kv21111?xjazyk=CZ&xid=0&xv=11&xdz=3&xnumnuts=3203&xobec=554791&xstrana=0',\n",
    "    2010: 'https://www.volby.cz/pls/kv2010/kv21111?xjazyk=CZ&xid=0&xv=11&xdz=3&xnumnuts=3203&xobec=554791&xstrana=0',\n",
    "    2014: 'https://www.volby.cz/pls/kv2014/kv21111?xjazyk=CZ&xid=0&xv=11&xdz=3&xnumnuts=3203&xobec=554791&xstrana=0',\n",
    "    2018: 'https://www.volby.cz/pls/kv2018/kv21111?xjazyk=CZ&xid=0&xv=11&xdz=3&xnumnuts=3203&xobec=554791&xstrana=0',\n",
    "}\n",
    "\n",
    "dfs = {}\n",
    "\n",
    "for i in urls.keys():\n",
    "    dfs[i] = pd.read_html(urls[i], flavor='html5lib', decimal=',', thousands='\\xa0')[0]\n",
    "    if i == 2002:\n",
    "        dfs[i].drop(columns=(\"Kandidátnílistina\"), inplace=True)\n",
    "        \n",
    "    else:\n",
    "        dfs[i].drop(columns=(\"Kandidátní listina\"), inplace=True)\n",
    "        dfs[i].columns = [\n",
    "            \"Pořadí\", \"Jmeno\", \"Věk 2002\", \"Navrhující strana\", \"Politická příslušnost\", \n",
    "            \"Hlasy abs.\", \"Hlasy v %\", \"Pořadí zvolení\", \"Mandát\"]\n",
    "        t = []\n",
    "        n = []\n",
    "        for names in dfs[i][\"Jmeno\"]:\n",
    "            names_separated = names.split(\" \")\n",
    "            titles_to_join = []\n",
    "            names_to_join = []\n",
    "            for name in names_separated:\n",
    "                if name in titles:\n",
    "                    titles_to_join.append(name)\n",
    "                else:\n",
    "                    names_to_join.append(name)\n",
    "            t.append(\" \".join(titles_to_join))\n",
    "            n.append(\" \".join(names_to_join))\n",
    "        dfs[i].insert(2, \"Titul\", t)\n",
    "        dfs[i][\"Jmeno\"] = n\n",
    "    dfs[i].columns = [\n",
    "        \"Pořadí na kandidátce v {year}\".format(year=i), \"Příjmení, jméno\", \"Tituly {year}\".format(year=i), \n",
    "        \"Věk {year}\".format(year=i), \"Navrhující strana\", \"Politická příslušnost\",\"Hlasy abs. {year}\".format(year=i),\n",
    "        \"Hlasy v % {year}\".format(year=i), \"Pořadí zvolení v {year}\".format(year=i), \"Mandát v {year}\".format(year=i)]\n",
    "    dfs[i][\"Mandát v {year}\".format(year=i)].fillna(\"-\", inplace=True)\n",
    "    dfs[i].fillna(\"\", inplace=True)\n",
    "    \n"
   ]
  },
  {
   "cell_type": "markdown",
   "metadata": {},
   "source": [
    "### Spojení dat"
   ]
  },
  {
   "cell_type": "code",
   "execution_count": null,
   "metadata": {},
   "outputs": [],
   "source": [
    "data = dfs[2002]\n",
    "for df in dfs.values():\n",
    "    data = data.merge(df,how=\"outer\")\n",
    "#data.fillna(0, inplace=True)\n",
    "#data.head(20)\n",
    "data"
   ]
  },
  {
   "cell_type": "markdown",
   "metadata": {},
   "source": [
    "### Uložení výsledků do csv"
   ]
  },
  {
   "cell_type": "code",
   "execution_count": null,
   "metadata": {},
   "outputs": [],
   "source": [
    "data.to_csv(\"candidateVotes.csv\", encoding=\"utf-8\")"
   ]
  },
  {
   "cell_type": "markdown",
   "metadata": {},
   "source": [
    "# Vizualizace dat\n",
    "## Načtení dat ze souboru"
   ]
  },
  {
   "cell_type": "code",
   "execution_count": null,
   "metadata": {},
   "outputs": [],
   "source": [
    "party_votes = pd.read_csv(\"partyVotes.csv\", encoding=\"utf-8\")\n",
    "candidate_votes = pd.read_csv(\"candidateVotes.csv\", encoding=\"utf-8\")\n",
    "party_votes.drop(columns=[\"Unnamed: 0\"], inplace=True)\n",
    "candidate_votes.drop(columns=[\"Unnamed: 0\"], inplace=True)\n",
    "years = [2002, 2006, 2010, 2014, 2018]"
   ]
  },
  {
   "cell_type": "code",
   "execution_count": null,
   "metadata": {},
   "outputs": [],
   "source": [
    "%matplotlib inline\n",
    "matplotlib.style.use(\"ggplot\")"
   ]
  },
  {
   "cell_type": "code",
   "execution_count": null,
   "metadata": {},
   "outputs": [],
   "source": [
    "total_attended_parties = party_votes.drop(columns=[\n",
    "    \"Název strany\", party_votes.columns[1], party_votes.columns[3], party_votes.columns[5], party_votes.columns[7],\n",
    "    party_votes.columns[9]\n",
    "])\n",
    "total_attended_parties.columns = years\n",
    "total_attended_parties.count().plot.bar()\n",
    "plt.title(\"Počet kandidujících stran v jednotlivých letech\")\n",
    "plt.show()"
   ]
  },
  {
   "cell_type": "code",
   "execution_count": null,
   "metadata": {},
   "outputs": [],
   "source": [
    "total_attended_candidates = candidate_votes.filter([\n",
    "    \"Pořadí na kandidátce v 2002\", \"Pořadí na kandidátce v 2006\", \"Pořadí na kandidátce v 2010\",\n",
    "    \"Pořadí na kandidátce v 2014\", \"Pořadí na kandidátce v 2018\"])\n",
    "total_attended_candidates.columns = years\n",
    "total_attended_candidates.count().plot.bar()\n",
    "plt.title(\"Počet kandidátů v jednotlivých letech\")\n",
    "plt.show()"
   ]
  },
  {
   "cell_type": "code",
   "execution_count": null,
   "metadata": {},
   "outputs": [],
   "source": [
    "@interact\n",
    "def interactive_party_results(party=candidate_votes[\"Navrhující strana\"].unique()):\n",
    "    total_attended_candidates_by_party = candidate_votes.loc[candidate_votes[\"Navrhující strana\"] == party]\n",
    "    total_attended_candidates_by_party = total_attended_candidates_by_party.filter([\n",
    "        \"Pořadí na kandidátce v 2002\", \"Pořadí na kandidátce v 2006\", \"Pořadí na kandidátce v 2010\",\n",
    "        \"Pořadí na kandidátce v 2014\", \"Pořadí na kandidátce v 2018\"])\n",
    "    total_attended_candidates_by_party.columns = years\n",
    "    total_attended_candidates_by_party.count().plot.bar()\n",
    "    plt.title(\"Počet kandidátů za stranu {} v jednotlivých letech\".format(party))\n",
    "    plt.show()"
   ]
  },
  {
   "cell_type": "markdown",
   "metadata": {},
   "source": [
    "## Věkovou strukturu kandidátů celkově i za jednotlivé strany a vývoj této struktury během jednotlivých voleb."
   ]
  },
  {
   "cell_type": "code",
   "execution_count": null,
   "metadata": {},
   "outputs": [],
   "source": [
    "candidates_age = candidate_votes.filter([\n",
    "    \"Věk 2002\", \"Věk 2006\", \"Věk 2010\", \"Věk 2014\", \"Věk 2018\"])\n",
    "candidates_age.columns = years\n",
    "candidates_age.mean().plot(xticks=years, yticks=range(40, 55, 4))\n",
    "plt.title(\"Průměr věku celkově\")\n",
    "plt.show()"
   ]
  },
  {
   "cell_type": "code",
   "execution_count": null,
   "metadata": {},
   "outputs": [],
   "source": [
    "@interact\n",
    "def interactive_party_results(party=candidate_votes[\"Navrhující strana\"].unique()):\n",
    "    candidates_age_by_party = candidate_votes.loc[candidate_votes[\"Navrhující strana\"] == party]\n",
    "    candidates_age_by_party = candidates_age_by_party.filter([\n",
    "        \"Věk 2002\", \"Věk 2006\", \"Věk 2010\", \"Věk 2014\", \"Věk 2018\"])\n",
    "    candidates_age_by_party.columns = years\n",
    "    candidates_age_by_party.mean().plot.bar()\n",
    "    plt.title(\"Průměr věku ve straně {} v jednotlivých letech\".format(party))\n",
    "    plt.show()"
   ]
  },
  {
   "cell_type": "markdown",
   "metadata": {},
   "source": [
    "## Časový vývoj volební účasti a volebních výsledků jednotlivých stran."
   ]
  },
  {
   "cell_type": "code",
   "execution_count": null,
   "metadata": {},
   "outputs": [],
   "source": [
    "number_of_councilors = 47"
   ]
  },
  {
   "cell_type": "code",
   "execution_count": null,
   "metadata": {},
   "outputs": [],
   "source": [
    "\n",
    "party_votes_absolute = party_votes.filter([\n",
    "    \"Počet hlasů abs 2002\", \"Počet hlasů abs 2006\", \"Počet hlasů abs 2010\",\n",
    "    \"Počet hlasů abs 2014\", \"Počet hlasů abs 2018\"\n",
    "])\n",
    "def get_relative_count(x):\n",
    "    try:\n",
    "        res = int(x) / number_of_councilors\n",
    "        return res\n",
    "    except:\n",
    "        return x\n",
    "\n",
    "def apply_series(x):\n",
    "    return x.apply(get_relative_count)\n",
    "party_votes_normalized = party_votes_absolute.apply(apply_series, axis=1)\n",
    "party_votes_normalized.columns = years\n",
    "\n",
    "eligible_voters = {\n",
    "    2002: 138679,\n",
    "    2006: 137423,\n",
    "    2010: 134791,\n",
    "    2014: 133527,\n",
    "    2018: 130238,\n",
    "}\n",
    "\n",
    "def year_eligible_voters():\n",
    "    year = 2002\n",
    "    while year < 2019:\n",
    "        yield eligible_voters[year]\n",
    "        year += 4\n",
    "\n",
    "party_votes_normalized.sum().apply(lambda x: x/next(year_eligible_voters())).plot(kind='line', xticks=years, yticks=[.0, .5, 1.])\n",
    "plt.show()"
   ]
  },
  {
   "cell_type": "markdown",
   "metadata": {},
   "source": [
    "## Výsledky za stranu"
   ]
  },
  {
   "cell_type": "code",
   "execution_count": null,
   "metadata": {},
   "outputs": [],
   "source": [
    "@interact\n",
    "def interactive_party_results(party=party_votes[\"Název strany\"].to_numpy()):\n",
    "    votes_per_year_party_abs = party_votes.loc[party_votes[\"Název strany\"] == party]\n",
    "    votes_per_year_party_abs = votes_per_year_party_abs.filter([\n",
    "        \"Počet hlasů abs 2002\", \"Počet hlasů abs 2006\", \"Počet hlasů abs 2010\", \"Počet hlasů abs 2014\", \"Počet hlasů abs 2018\"])\n",
    "    votes_per_year_party_abs.columns = years\n",
    "    votes_per_year_party_abs.iloc[0].plot.bar(title=party, xticks = ([2000,] + years + [2020,]))\n",
    "    plt.show()\n",
    "    votes_per_year_party_percent = party_votes.loc[party_votes[\"Název strany\"] == party]\n",
    "    votes_per_year_party_percent = votes_per_year_party_percent.filter([\n",
    "        \"Počet hlasů v % 2002\", \"Počet hlasů v % 2006\", \"Počet hlasů v % 2010\", \"Počet hlasů v % 2014\", \"Počet hlasů v % 2018\"])\n",
    "    votes_per_year_party_percent.columns = years\n",
    "    votes_per_year_party_percent.iloc[0].plot.bar(title=party, xticks = ([2000,] + years + [2020,]))\n",
    "    plt.show()"
   ]
  },
  {
   "cell_type": "markdown",
   "metadata": {},
   "source": [
    "## Časový vývoj podílu kandidujících s titulem a bez titulu."
   ]
  },
  {
   "cell_type": "code",
   "execution_count": null,
   "metadata": {},
   "outputs": [],
   "source": [
    "@interact\n",
    "def interactive_degree_ratio(year=years):\n",
    "    with_title = candidate_votes[\"Tituly {}\".format(year)].count()\n",
    "    without_title = candidate_votes[\"Hlasy abs. {}\".format(year)].count() - with_title\n",
    "    print(without_title, with_title)\n",
    "    degree_ratio = pd.DataFrame(data=(with_title, without_title), index=[\"Bez titulu\", \"S titulem\"], columns=[year,])\n",
    "    degree_ratio.plot(title=\"Podíl kandidátů s titulem\", kind='pie', subplots=True)\n",
    "    plt.show()"
   ]
  },
  {
   "cell_type": "code",
   "execution_count": null,
   "metadata": {},
   "outputs": [],
   "source": [
    "title_share = []\n",
    "for i in years:\n",
    "    title_share.append(candidate_votes[\"Tituly {}\".format(i)].count()/candidate_votes[\"Hlasy abs. {}\".format(i)].count())\n",
    "pd.Series(title_share).plot(title=\"Časový vývoj podílu kandidátů s titulem\", kind='bar', xticks=years)\n",
    "plt.show()"
   ]
  },
  {
   "cell_type": "code",
   "execution_count": null,
   "metadata": {},
   "outputs": [],
   "source": [
    "bachelor={\n",
    "    'um.', 'Bc.',  \n",
    "}\n",
    "magister={\n",
    "    'dipl.', 'ped.', 'MUDr.', 'LL.M.', 'M.Sc.', 'JUDr.', 'ThMgr.', 'prom.ped.', 'Arch.', 'Mgr.', 'Mgr.etMgr', 'MgA.', \n",
    "    'MSc.', 'MVDr.', 'Dr.', 'arch.', 'ing.', 'CSc.', 'Ing.', 'MPA', 'MBA', \n",
    "}\n",
    "higher={\n",
    "    'PhDr.Ing.Mgr.et', 'RSDr.', 'Akad.', 'doc.', 'PhDr.', 'Ph.D.', 'Prof.', 'Th.D.', 'prof.', 'Doc.', 'RNDr.', \n",
    "    'DrSc.', 'dr.h.c.', 'DSc.', 'DiS.', 'PaedDr.', \n",
    "}\n",
    "army={\n",
    "    'plk.',\n",
    "}\n",
    "other={\n",
    "    'M.A.', 'FICS.', 'King',\n",
    "}"
   ]
  },
  {
   "cell_type": "code",
   "execution_count": null,
   "metadata": {},
   "outputs": [],
   "source": [
    "@interact\n",
    "def interactive_degree_ratio(year=years):\n",
    "    candidate_votes_tmp = candidate_votes.fillna(\"\")\n",
    "    bc, mgr, hg, arm, oth = 0, 0, 0, 0, 0\n",
    "    for candidate in candidate_votes_tmp.iterrows():\n",
    "        if candidate[1][\"Hlasy abs. {}\".format(year)]:\n",
    "            try:\n",
    "                for i in higher:\n",
    "                    if i in candidate[1][\"Tituly {}\".format(year)]:\n",
    "                        hg+=1\n",
    "                for i in magister:\n",
    "                    if i in candidate[1][\"Tituly {}\".format(year)]:\n",
    "                        mgr+=1\n",
    "                for i in bachelor:\n",
    "                    if i in candidate[1][\"Tituly {}\".format(year)]:\n",
    "                        bc+=1\n",
    "                for i in army:\n",
    "                    if i in candidate[1][\"Tituly {}\".format(year)]:\n",
    "                        arm+=1\n",
    "                for i in other:\n",
    "                    if i in candidate[1][\"Tituly {}\".format(year)]:\n",
    "                        oth+=1\n",
    "            except KeyError as e:\n",
    "                print(e)\n",
    "                pass\n",
    "    #print([bc, mgr, hg, army, other])\n",
    "    ratio = pd.DataFrame(data=[bc, mgr, hg, arm, oth], columns= [year,], index=[\"Bachelor\", \"Master\", \"Doctor\", \"Army\", \"Other\"])\n",
    "    ratio.plot.pie(figsize=(5, 5), subplots=True)\n",
    "    plt.title(\"Podíl titulů mezi sebou\")\n",
    "    plt.show()\n"
   ]
  },
  {
   "cell_type": "code",
   "execution_count": null,
   "metadata": {},
   "outputs": [],
   "source": [
    "@interact\n",
    "def interactive_gender_ratio(year=years):\n",
    "    male, female = 0, 0\n",
    "    for candidate in candidate_votes.iterrows():\n",
    "        if year == 2002:\n",
    "            if candidate[1][\"Hlasy abs. {}\".format(year)]>0:\n",
    "                #print(candidate[1][\"Příjmení, jméno\"].split(\"\\xa0\")[0])\n",
    "                if candidate[1][\"Příjmení, jméno\"].split(\"\\xa0\")[0].endswith(\"á\"):\n",
    "                    female+=1\n",
    "                else:\n",
    "                    male+=1\n",
    "        else:\n",
    "            if candidate[1][\"Hlasy abs. {}\".format(year)]>0:\n",
    "                if candidate[1][\"Příjmení, jméno\"].split(\" \")[0].endswith(\"á\"):\n",
    "                    female+=1\n",
    "                else:\n",
    "                    male+=1\n",
    "    gender_ratio = pd.DataFrame(data=[male, female], columns=[year,], index=[\"Muž\", \"Žena\"])\n",
    "    gender_ratio.plot.pie(figsize=(5, 5), subplots=True)\n",
    "    plt.title(\"Podíl žen a mužů\")\n",
    "    plt.show()"
   ]
  }
 ],
 "metadata": {
  "kernelspec": {
   "display_name": "Python 3",
   "language": "python",
   "name": "python3"
  },
  "language_info": {
   "codemirror_mode": {
    "name": "ipython",
    "version": 3
   },
   "file_extension": ".py",
   "mimetype": "text/x-python",
   "name": "python",
   "nbconvert_exporter": "python",
   "pygments_lexer": "ipython3",
   "version": "3.6.8"
  },
  "pycharm": {
   "stem_cell": {
    "cell_type": "raw",
    "metadata": {
     "collapsed": false
    },
    "source": []
   }
  }
 },
 "nbformat": 4,
 "nbformat_minor": 4
}
